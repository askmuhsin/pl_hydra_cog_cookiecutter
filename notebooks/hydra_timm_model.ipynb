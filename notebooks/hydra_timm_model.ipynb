{
 "cells": [
  {
   "cell_type": "code",
   "execution_count": 8,
   "id": "23a480c0-6162-4e9b-9aa8-6742fd134324",
   "metadata": {},
   "outputs": [],
   "source": [
    "import timm\n",
    "from timm.data import resolve_data_config\n",
    "\n",
    "import torch"
   ]
  },
  {
   "cell_type": "code",
   "execution_count": 2,
   "id": "48bdd60e-7c94-4f87-9aec-9b3e579ee89f",
   "metadata": {},
   "outputs": [],
   "source": [
    "\n",
    "class TimmModel:\n",
    "    def __init__(\n",
    "        self,\n",
    "        model_name\n",
    "    ) -> None:\n",
    "        self.model_name = model_name\n",
    "\n",
    "    def load_model(self):\n",
    "        model = timm.create_model(self.model_name, pretrained=True)\n",
    "        model = model.eval()\n",
    "        config = resolve_data_config({}, model=model)\n",
    "        return model, config"
   ]
  },
  {
   "cell_type": "code",
   "execution_count": 3,
   "id": "107244ab-1ab0-43d7-a64e-2a1e0a4fcfe8",
   "metadata": {},
   "outputs": [],
   "source": [
    "timm_model = TimmModel('mobilenetv2_140')"
   ]
  },
  {
   "cell_type": "code",
   "execution_count": 6,
   "id": "925755cf-dcfd-4797-8ada-1bcdf2d42efa",
   "metadata": {},
   "outputs": [],
   "source": [
    "model, config = timm_model.load_model()"
   ]
  },
  {
   "cell_type": "code",
   "execution_count": 10,
   "id": "e6b3c589-8367-47df-ac4b-a2b4bff3ebf1",
   "metadata": {},
   "outputs": [
    {
     "data": {
      "text/plain": [
       "torch.Size([1, 1000])"
      ]
     },
     "execution_count": 10,
     "metadata": {},
     "output_type": "execute_result"
    }
   ],
   "source": [
    "model(torch.rand(1, 3, 224, 224)).shape"
   ]
  },
  {
   "cell_type": "markdown",
   "id": "350714ca-3544-4477-97d3-9629e6a77f89",
   "metadata": {},
   "source": [
    "`timm.yaml`\n",
    "```yaml\n",
    "_target_: timm_model.TimmModel\n",
    "model_name: 'mobilenetv2_140'\n",
    "```"
   ]
  },
  {
   "cell_type": "code",
   "execution_count": null,
   "id": "b11da9ce-5000-47bd-ab0e-0ff6ff585c65",
   "metadata": {},
   "outputs": [],
   "source": []
  },
  {
   "cell_type": "code",
   "execution_count": null,
   "id": "330063b7-9f03-47ee-a396-d71a332d4d4d",
   "metadata": {},
   "outputs": [],
   "source": []
  }
 ],
 "metadata": {
  "kernelspec": {
   "display_name": "Python [conda env:timm_tester]",
   "language": "python",
   "name": "conda-env-timm_tester-py"
  },
  "language_info": {
   "codemirror_mode": {
    "name": "ipython",
    "version": 3
   },
   "file_extension": ".py",
   "mimetype": "text/x-python",
   "name": "python",
   "nbconvert_exporter": "python",
   "pygments_lexer": "ipython3",
   "version": "3.10.4"
  }
 },
 "nbformat": 4,
 "nbformat_minor": 5
}
