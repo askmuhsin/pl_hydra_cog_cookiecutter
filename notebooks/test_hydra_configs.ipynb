{
 "cells": [
  {
   "cell_type": "code",
   "execution_count": 4,
   "id": "49312c16-4f18-481c-84ed-25a665ea9774",
   "metadata": {},
   "outputs": [],
   "source": [
    "import hydra\n",
    "import omegaconf\n",
    "import pyrootutils"
   ]
  },
  {
   "cell_type": "code",
   "execution_count": 9,
   "id": "e6dc284c-c9c9-47cb-ace2-3ee747115a3f",
   "metadata": {},
   "outputs": [],
   "source": [
    "root = pyrootutils.setup_root('.', pythonpath=True)\n",
    "cfg = omegaconf.OmegaConf.load(root / \"configs\" / \"datamodule\" / \"mnist.yaml\")\n",
    "cfg.data_dir = str(root / \"data\")"
   ]
  },
  {
   "cell_type": "code",
   "execution_count": 10,
   "id": "6278167a-ba0b-4e90-8863-65e0ce14e198",
   "metadata": {},
   "outputs": [
    {
     "name": "stderr",
     "output_type": "stream",
     "text": [
      "/Users/muhsin/opt/anaconda3/envs/timm_tester/lib/python3.10/site-packages/tqdm/auto.py:22: TqdmWarning: IProgress not found. Please update jupyter and ipywidgets. See https://ipywidgets.readthedocs.io/en/stable/user_install.html\n",
      "  from .autonotebook import tqdm as notebook_tqdm\n"
     ]
    }
   ],
   "source": [
    "mnist_ldm = hydra.utils.instantiate(cfg)"
   ]
  },
  {
   "cell_type": "code",
   "execution_count": 13,
   "id": "f92c8113-a8ac-4472-9b93-e7c6c65c1299",
   "metadata": {},
   "outputs": [
    {
     "name": "stdout",
     "output_type": "stream",
     "text": [
      "Downloading http://yann.lecun.com/exdb/mnist/train-images-idx3-ubyte.gz\n",
      "Downloading http://yann.lecun.com/exdb/mnist/train-images-idx3-ubyte.gz to /Users/muhsin/Projects/emlo_2/S2_ml_tooling/pl_hydra_cog_cookiecutter/data/MNIST/raw/train-images-idx3-ubyte.gz\n"
     ]
    },
    {
     "name": "stderr",
     "output_type": "stream",
     "text": [
      "100%|██████████████████████████████| 9912422/9912422 [00:01<00:00, 8819115.92it/s]\n"
     ]
    },
    {
     "name": "stdout",
     "output_type": "stream",
     "text": [
      "Extracting /Users/muhsin/Projects/emlo_2/S2_ml_tooling/pl_hydra_cog_cookiecutter/data/MNIST/raw/train-images-idx3-ubyte.gz to /Users/muhsin/Projects/emlo_2/S2_ml_tooling/pl_hydra_cog_cookiecutter/data/MNIST/raw\n",
      "\n",
      "Downloading http://yann.lecun.com/exdb/mnist/train-labels-idx1-ubyte.gz\n",
      "Downloading http://yann.lecun.com/exdb/mnist/train-labels-idx1-ubyte.gz to /Users/muhsin/Projects/emlo_2/S2_ml_tooling/pl_hydra_cog_cookiecutter/data/MNIST/raw/train-labels-idx1-ubyte.gz\n"
     ]
    },
    {
     "name": "stderr",
     "output_type": "stream",
     "text": [
      "100%|██████████████████████████████████| 28881/28881 [00:00<00:00, 4285561.94it/s]\n"
     ]
    },
    {
     "name": "stdout",
     "output_type": "stream",
     "text": [
      "Extracting /Users/muhsin/Projects/emlo_2/S2_ml_tooling/pl_hydra_cog_cookiecutter/data/MNIST/raw/train-labels-idx1-ubyte.gz to /Users/muhsin/Projects/emlo_2/S2_ml_tooling/pl_hydra_cog_cookiecutter/data/MNIST/raw\n",
      "\n",
      "Downloading http://yann.lecun.com/exdb/mnist/t10k-images-idx3-ubyte.gz\n",
      "Downloading http://yann.lecun.com/exdb/mnist/t10k-images-idx3-ubyte.gz to /Users/muhsin/Projects/emlo_2/S2_ml_tooling/pl_hydra_cog_cookiecutter/data/MNIST/raw/t10k-images-idx3-ubyte.gz\n"
     ]
    },
    {
     "name": "stderr",
     "output_type": "stream",
     "text": [
      "100%|██████████████████████████████| 1648877/1648877 [00:00<00:00, 4840837.40it/s]\n"
     ]
    },
    {
     "name": "stdout",
     "output_type": "stream",
     "text": [
      "Extracting /Users/muhsin/Projects/emlo_2/S2_ml_tooling/pl_hydra_cog_cookiecutter/data/MNIST/raw/t10k-images-idx3-ubyte.gz to /Users/muhsin/Projects/emlo_2/S2_ml_tooling/pl_hydra_cog_cookiecutter/data/MNIST/raw\n",
      "\n",
      "Downloading http://yann.lecun.com/exdb/mnist/t10k-labels-idx1-ubyte.gz\n",
      "Downloading http://yann.lecun.com/exdb/mnist/t10k-labels-idx1-ubyte.gz to /Users/muhsin/Projects/emlo_2/S2_ml_tooling/pl_hydra_cog_cookiecutter/data/MNIST/raw/t10k-labels-idx1-ubyte.gz\n"
     ]
    },
    {
     "name": "stderr",
     "output_type": "stream",
     "text": [
      "100%|████████████████████████████████████| 4542/4542 [00:00<00:00, 5381505.30it/s]"
     ]
    },
    {
     "name": "stdout",
     "output_type": "stream",
     "text": [
      "Extracting /Users/muhsin/Projects/emlo_2/S2_ml_tooling/pl_hydra_cog_cookiecutter/data/MNIST/raw/t10k-labels-idx1-ubyte.gz to /Users/muhsin/Projects/emlo_2/S2_ml_tooling/pl_hydra_cog_cookiecutter/data/MNIST/raw\n",
      "\n"
     ]
    },
    {
     "name": "stderr",
     "output_type": "stream",
     "text": [
      "\n"
     ]
    }
   ],
   "source": [
    "mnist_ldm.prepare_data()\n",
    "mnist_ldm.setup()"
   ]
  },
  {
   "cell_type": "code",
   "execution_count": 14,
   "id": "501f6fd5-695d-4dd6-a0f0-5155d60a9b84",
   "metadata": {},
   "outputs": [],
   "source": [
    "test_dataloader = mnist_ldm.test_dataloader()"
   ]
  },
  {
   "cell_type": "code",
   "execution_count": 15,
   "id": "035dd590-9798-409a-9b6d-47ee209ad86c",
   "metadata": {},
   "outputs": [],
   "source": [
    "for data, label in test_dataloader:\n",
    "    break"
   ]
  },
  {
   "cell_type": "code",
   "execution_count": 18,
   "id": "6425787e-d0f6-4712-a4b2-7a02abe91bef",
   "metadata": {},
   "outputs": [
    {
     "data": {
      "text/plain": [
       "torch.Size([128, 1, 28, 28])"
      ]
     },
     "execution_count": 18,
     "metadata": {},
     "output_type": "execute_result"
    }
   ],
   "source": [
    "data.shape"
   ]
  },
  {
   "cell_type": "code",
   "execution_count": 19,
   "id": "fbf88d47-8de9-46b2-8119-b09dc4304c6e",
   "metadata": {},
   "outputs": [
    {
     "data": {
      "text/plain": [
       "torch.Size([128])"
      ]
     },
     "execution_count": 19,
     "metadata": {},
     "output_type": "execute_result"
    }
   ],
   "source": [
    "label.shape"
   ]
  },
  {
   "cell_type": "code",
   "execution_count": 24,
   "id": "05535e4e-875b-42f6-8f82-55498e3fbf6d",
   "metadata": {},
   "outputs": [],
   "source": [
    "test_img = data[0].permute(1, 2, 0)"
   ]
  },
  {
   "cell_type": "code",
   "execution_count": 26,
   "id": "4156b284-b75d-4f62-ba25-fdf165082371",
   "metadata": {},
   "outputs": [],
   "source": [
    "import matplotlib.pyplot as plt"
   ]
  },
  {
   "cell_type": "code",
   "execution_count": 29,
   "id": "f7bd28e7-2cea-4018-bb9f-b0e55369968c",
   "metadata": {},
   "outputs": [
    {
     "data": {
      "text/plain": [
       "<matplotlib.image.AxesImage at 0x7fe1b5ddb370>"
      ]
     },
     "execution_count": 29,
     "metadata": {},
     "output_type": "execute_result"
    },
    {
     "data": {
      "image/png": "[encoded data removed]",
      "text/plain": [
       "<Figure size 432x288 with 1 Axes>"
      ]
     },
     "metadata": {
      "needs_background": "light"
     },
     "output_type": "display_data"
    }
   ],
   "source": [
    "plt.imshow(test_img, cmap='gray')"
   ]
  },
  {
   "cell_type": "code",
   "execution_count": null,
   "id": "0443b8e6-b690-4ff9-95c2-7b044206e76c",
   "metadata": {},
   "outputs": [],
   "source": []
  }
 ],
 "metadata": {
  "kernelspec": {
   "display_name": "Python [conda env:timm_tester]",
   "language": "python",
   "name": "conda-env-timm_tester-py"
  },
  "language_info": {
   "codemirror_mode": {
    "name": "ipython",
    "version": 3
   },
   "file_extension": ".py",
   "mimetype": "text/x-python",
   "name": "python",
   "nbconvert_exporter": "python",
   "pygments_lexer": "ipython3",
   "version": "3.10.4"
  }
 },
 "nbformat": 4,
 "nbformat_minor": 5
}
