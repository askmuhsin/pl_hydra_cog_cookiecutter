{
 "cells": [
  {
   "cell_type": "code",
   "execution_count": 1,
   "id": "49312c16-4f18-481c-84ed-25a665ea9774",
   "metadata": {},
   "outputs": [
    {
     "name": "stderr",
     "output_type": "stream",
     "text": [
      "/Users/muhsin/opt/anaconda3/envs/timm_tester/lib/python3.10/site-packages/tqdm/auto.py:22: TqdmWarning: IProgress not found. Please update jupyter and ipywidgets. See https://ipywidgets.readthedocs.io/en/stable/user_install.html\n",
      "  from .autonotebook import tqdm as notebook_tqdm\n"
     ]
    }
   ],
   "source": [
    "import hydra\n",
    "import omegaconf\n",
    "import pyrootutils\n",
    "\n",
    "import torch"
   ]
  },
  {
   "cell_type": "code",
   "execution_count": 2,
   "id": "e6dc284c-c9c9-47cb-ace2-3ee747115a3f",
   "metadata": {},
   "outputs": [],
   "source": [
    "root = pyrootutils.setup_root('.', pythonpath=True)\n",
    "data_cfg = omegaconf.OmegaConf.load(root / \"configs\" / \"datamodule\" / \"mnist.yaml\")\n",
    "data_cfg.data_dir = str(root / \"data\")\n",
    "\n",
    "\n",
    "model_cfg = omegaconf.OmegaConf.load(root / \"configs\" / \"model\" / \"mnist.yaml\")"
   ]
  },
  {
   "cell_type": "code",
   "execution_count": 3,
   "id": "765dac1f-b2c2-47fb-886e-e10a7b3efca8",
   "metadata": {},
   "outputs": [
    {
     "name": "stdout",
     "output_type": "stream",
     "text": [
      "creating mobilenetv2_140 from timm...\n"
     ]
    }
   ],
   "source": [
    "model = hydra.utils.instantiate(model_cfg)\n",
    "mnist_ldm = hydra.utils.instantiate(data_cfg)"
   ]
  },
  {
   "cell_type": "code",
   "execution_count": 4,
   "id": "6d572c9a-c2b5-4266-8b05-65a32003986d",
   "metadata": {},
   "outputs": [
    {
     "data": {
      "text/plain": [
       "(src.models.mnist_module.MNISTLitModule,\n",
       " src.datamodules.cifar10_datamodule.CIFAR10DataModule)"
      ]
     },
     "execution_count": 4,
     "metadata": {},
     "output_type": "execute_result"
    }
   ],
   "source": [
    "type(model), type(mnist_ldm)"
   ]
  },
  {
   "cell_type": "code",
   "execution_count": 5,
   "id": "db36347f-9c9c-4d60-9076-50ac450500da",
   "metadata": {},
   "outputs": [
    {
     "data": {
      "text/plain": [
       "{'input_size': (3, 224, 224),\n",
       " 'interpolation': 'bicubic',\n",
       " 'mean': (0.485, 0.456, 0.406),\n",
       " 'std': (0.229, 0.224, 0.225),\n",
       " 'crop_pct': 0.875}"
      ]
     },
     "execution_count": 5,
     "metadata": {},
     "output_type": "execute_result"
    }
   ],
   "source": [
    "model.net.get_data_config()"
   ]
  },
  {
   "cell_type": "code",
   "execution_count": 7,
   "id": "e7293a65-9c69-47aa-b839-8217a2734b2a",
   "metadata": {},
   "outputs": [],
   "source": [
    "from timm.data.transforms_factory import create_transform"
   ]
  },
  {
   "cell_type": "code",
   "execution_count": 9,
   "id": "dcb1792f-9d00-4781-b518-12bc5f024a08",
   "metadata": {},
   "outputs": [],
   "source": [
    "custom_tranform = create_transform(**model.net.get_data_config())"
   ]
  },
  {
   "cell_type": "code",
   "execution_count": 10,
   "id": "0afc761e-6aba-4626-8429-3bbf69a4bc6e",
   "metadata": {},
   "outputs": [
    {
     "data": {
      "text/plain": [
       "torchvision.transforms.transforms.Compose"
      ]
     },
     "execution_count": 10,
     "metadata": {},
     "output_type": "execute_result"
    }
   ],
   "source": [
    "type(custom_tranform)"
   ]
  },
  {
   "cell_type": "code",
   "execution_count": null,
   "id": "02fd04e1-3bf9-42cf-8e8c-6f51a03b13e8",
   "metadata": {},
   "outputs": [],
   "source": [
    "self.transforms = transforms.Compose(\n",
    "    [\n",
    "        transforms.Resize(size=256, interpolation=bicubic, max_size=None, antialias=None),\n",
    "        transforms.CenterCrop(size=(224, 224)),\n",
    "        transforms.ToTensor(), \n",
    "        transforms.Normalize(mean=tensor([0.4850, 0.4560, 0.4060]), std=tensor([0.2290, 0.2240, 0.2250]))\n",
    "    ]\n",
    ")"
   ]
  },
  {
   "cell_type": "code",
   "execution_count": null,
   "id": "2fff9e3b-19c3-47a2-be19-0b0d1370273b",
   "metadata": {},
   "outputs": [],
   "source": [
    "from torchvision.transforms import transforms"
   ]
  },
  {
   "cell_type": "code",
   "execution_count": null,
   "id": "7ba332b1-96f9-4ad6-b8f2-60f5d318e93c",
   "metadata": {},
   "outputs": [],
   "source": []
  },
  {
   "cell_type": "code",
   "execution_count": null,
   "id": "7d1399d9-697d-4df0-b6f7-5d7dc87d4ea7",
   "metadata": {},
   "outputs": [],
   "source": [
    "test_img = torch.ones(3, 100, 100)\n",
    "as_pil_image = transforms.ToPILImage()\n",
    "img = as_pil_image(test_img)\n",
    "img"
   ]
  },
  {
   "cell_type": "code",
   "execution_count": null,
   "id": "6a4e0e74-3aa2-49c1-9c2d-4e884fdecaf3",
   "metadata": {},
   "outputs": [],
   "source": [
    "test_transforms = transforms.Compose(\n",
    "    [\n",
    "        transforms.Resize(size=256, interpolation=transforms.InterpolationMode.BICUBIC, max_size=None, antialias=None),\n",
    "        transforms.CenterCrop(size=(224, 224)),\n",
    "        transforms.ToTensor(), \n",
    "        transforms.Normalize(mean=(0.4850, 0.4560, 0.4060), std=(0.2290, 0.2240, 0.2250))\n",
    "    ]\n",
    ")"
   ]
  },
  {
   "cell_type": "code",
   "execution_count": null,
   "id": "9f12f24c-de63-4552-a855-6d3239cae8a3",
   "metadata": {},
   "outputs": [],
   "source": [
    "as_pil_image(test_transforms(img))"
   ]
  },
  {
   "cell_type": "code",
   "execution_count": null,
   "id": "9a777e2c-42f7-4c1f-a6f1-e49dbf4b0190",
   "metadata": {},
   "outputs": [],
   "source": []
  },
  {
   "cell_type": "code",
   "execution_count": null,
   "id": "4f6df297-e02f-4cb8-a619-c52a5d52330b",
   "metadata": {},
   "outputs": [],
   "source": [
    "test_img_1 = torch.rand(128, 3, 28, 28)\n",
    "test_img_2 = torch.rand(1, 3, 224, 224)"
   ]
  },
  {
   "cell_type": "code",
   "execution_count": null,
   "id": "80719525-6b1f-49dd-b0b6-e90d92bf27e5",
   "metadata": {},
   "outputs": [],
   "source": [
    "model(test_img_1).shape"
   ]
  },
  {
   "cell_type": "code",
   "execution_count": null,
   "id": "a4df01b6-5c97-4bee-93a1-5859eedb6507",
   "metadata": {},
   "outputs": [],
   "source": [
    "model(test_img_2).shape"
   ]
  },
  {
   "cell_type": "code",
   "execution_count": null,
   "id": "f92c8113-a8ac-4472-9b93-e7c6c65c1299",
   "metadata": {},
   "outputs": [],
   "source": [
    "mnist_ldm.prepare_data()\n",
    "mnist_ldm.setup()"
   ]
  },
  {
   "cell_type": "code",
   "execution_count": null,
   "id": "501f6fd5-695d-4dd6-a0f0-5155d60a9b84",
   "metadata": {},
   "outputs": [],
   "source": [
    "test_dataloader = mnist_ldm.test_dataloader()"
   ]
  },
  {
   "cell_type": "code",
   "execution_count": null,
   "id": "035dd590-9798-409a-9b6d-47ee209ad86c",
   "metadata": {},
   "outputs": [],
   "source": [
    "for data, label in test_dataloader:\n",
    "    break"
   ]
  },
  {
   "cell_type": "code",
   "execution_count": null,
   "id": "6425787e-d0f6-4712-a4b2-7a02abe91bef",
   "metadata": {},
   "outputs": [],
   "source": [
    "data.shape"
   ]
  },
  {
   "cell_type": "code",
   "execution_count": null,
   "id": "e51e5712-c351-4430-be09-264ccb40f874",
   "metadata": {},
   "outputs": [],
   "source": [
    "torch.ran"
   ]
  },
  {
   "cell_type": "code",
   "execution_count": null,
   "id": "86dffc24-25a8-433a-9549-ef14f634f6b2",
   "metadata": {},
   "outputs": [],
   "source": [
    "model(data).shape"
   ]
  },
  {
   "cell_type": "code",
   "execution_count": null,
   "id": "fbf88d47-8de9-46b2-8119-b09dc4304c6e",
   "metadata": {},
   "outputs": [],
   "source": [
    "label.shape"
   ]
  },
  {
   "cell_type": "code",
   "execution_count": null,
   "id": "05535e4e-875b-42f6-8f82-55498e3fbf6d",
   "metadata": {},
   "outputs": [],
   "source": [
    "test_img = data[0].permute(1, 2, 0)"
   ]
  },
  {
   "cell_type": "code",
   "execution_count": null,
   "id": "4156b284-b75d-4f62-ba25-fdf165082371",
   "metadata": {},
   "outputs": [],
   "source": [
    "import matplotlib.pyplot as plt"
   ]
  },
  {
   "cell_type": "code",
   "execution_count": null,
   "id": "f7bd28e7-2cea-4018-bb9f-b0e55369968c",
   "metadata": {},
   "outputs": [],
   "source": [
    "plt.imshow(test_img, cmap='gray')"
   ]
  },
  {
   "cell_type": "code",
   "execution_count": null,
   "id": "0443b8e6-b690-4ff9-95c2-7b044206e76c",
   "metadata": {},
   "outputs": [],
   "source": []
  }
 ],
 "metadata": {
  "kernelspec": {
   "display_name": "Python [conda env:timm_tester]",
   "language": "python",
   "name": "conda-env-timm_tester-py"
  },
  "language_info": {
   "codemirror_mode": {
    "name": "ipython",
    "version": 3
   },
   "file_extension": ".py",
   "mimetype": "text/x-python",
   "name": "python",
   "nbconvert_exporter": "python",
   "pygments_lexer": "ipython3",
   "version": "3.10.4"
  }
 },
 "nbformat": 4,
 "nbformat_minor": 5
}
